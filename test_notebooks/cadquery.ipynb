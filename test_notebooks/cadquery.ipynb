{
 "cells": [
  {
   "cell_type": "code",
   "execution_count": 3,
   "id": "streaming-trinity",
   "metadata": {},
   "outputs": [
    {
     "name": "stdout",
     "output_type": "stream",
     "text": [
      "Overwriting auto display for cadquery Workplane and Shape\n"
     ]
    }
   ],
   "source": [
    "import warnings\n",
    "warnings.filterwarnings(\"ignore\")\n",
    "\n",
    "import cadquery as cq\n",
    "from jupyter_cadquery.cadquery import show\n",
    "\n",
    "from cadquery.occ_impl import exporters\n",
    "\n",
    "def make_block(lbumps, wbumps, thin):\n",
    "#     lbumps = 4       # number of bumps long\n",
    "#     wbumps = 2       # number of bumps wide\n",
    "#     thin = False      # True for thin, False for thick\n",
    "\n",
    "    #\n",
    "    # Lego Brick Constants-- these make a Lego brick a Lego :)\n",
    "    #\n",
    "    pitch = 8.0\n",
    "    clearance = 0.1\n",
    "    bumpDiam = 4.8\n",
    "    bumpHeight = 1.8\n",
    "    if thin:\n",
    "        height = 3.2\n",
    "    else:\n",
    "        height = 9.6\n",
    "\n",
    "    t = (pitch - (2 * clearance) - bumpDiam) / 2.0\n",
    "    postDiam = pitch - t  # works out to 6.5\n",
    "    total_length = lbumps*pitch - 2.0*clearance\n",
    "    total_width = wbumps*pitch - 2.0*clearance\n",
    "\n",
    "    # make the base\n",
    "    s = cq.Workplane(\"XY\").box(total_length, total_width, height)\n",
    "\n",
    "    # shell inwards not outwards\n",
    "    s = s.faces(\"<Z\").shell(-1.0 * t)\n",
    "\n",
    "    # make the bumps on the top\n",
    "    s = (s.faces(\">Z\").workplane().\n",
    "        rarray(pitch, pitch, lbumps, wbumps, True).circle(bumpDiam / 2.0)\n",
    "        .extrude(bumpHeight))\n",
    "\n",
    "    # add posts on the bottom. posts are different diameter depending on geometry\n",
    "    # solid studs for 1 bump, tubes for multiple, none for 1x1\n",
    "    tmp = s.faces(\"<Z\").workplane(invert=True)\n",
    "\n",
    "    if lbumps > 1 and wbumps > 1:\n",
    "        tmp = (tmp.rarray(pitch, pitch, lbumps - 1, wbumps - 1, center=True).\n",
    "            circle(postDiam / 2.0).circle(bumpDiam / 2.0).extrude(height - t))\n",
    "    elif lbumps > 1:\n",
    "        tmp = (tmp.rarray(pitch, pitch, lbumps - 1, 1, center=True).\n",
    "            circle(t).extrude(height - t))\n",
    "    elif wbumps > 1:\n",
    "        tmp = (tmp.rarray(pitch, pitch, 1, wbumps - 1, center=True).\n",
    "            circle(t).extrude(height - t))\n",
    "    else:\n",
    "        tmp = s\n",
    "        \n",
    "    return tmp"
   ]
  },
  {
   "cell_type": "code",
   "execution_count": 4,
   "id": "agricultural-blend",
   "metadata": {},
   "outputs": [
    {
     "data": {
      "application/vnd.jupyter.widget-view+json": {
       "model_id": "69757b311cce40d2b6bf5d02764171e5",
       "version_major": 2,
       "version_minor": 0
      },
      "text/plain": [
       "HBox(children=(VBox(children=(HBox(children=(Checkbox(value=False, description='Axes', indent=False, _dom_clas…"
      ]
     },
     "metadata": {},
     "output_type": "display_data"
    },
    {
     "data": {
      "text/plain": [
       "<jupyter_cadquery.cad_display.CadqueryDisplay at 0x7fa806d74a60>"
      ]
     },
     "execution_count": 4,
     "metadata": {},
     "output_type": "execute_result"
    }
   ],
   "source": [
    "block = make_block(2, 2, True)\n",
    "show(block)"
   ]
  }
 ],
 "metadata": {
  "kernelspec": {
   "display_name": "Python 3",
   "language": "python",
   "name": "python3"
  },
  "language_info": {
   "codemirror_mode": {
    "name": "ipython",
    "version": 3
   },
   "file_extension": ".py",
   "mimetype": "text/x-python",
   "name": "python",
   "nbconvert_exporter": "python",
   "pygments_lexer": "ipython3",
   "version": "3.8.5"
  }
 },
 "nbformat": 4,
 "nbformat_minor": 5
}
