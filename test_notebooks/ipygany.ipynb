{
 "cells": [
  {
   "cell_type": "code",
   "execution_count": 1,
   "id": "built-region",
   "metadata": {},
   "outputs": [],
   "source": [
    "import pyvista as pv\n",
    "pv.set_jupyter_backend('ipygany')"
   ]
  },
  {
   "cell_type": "code",
   "execution_count": 2,
   "id": "legendary-hospital",
   "metadata": {},
   "outputs": [
    {
     "data": {
      "text/plain": [
       "(vtkmodules.vtkRenderingAnnotation.vtkAxesActor)0x7fd0af59fd00"
      ]
     },
     "execution_count": 2,
     "metadata": {},
     "output_type": "execute_result"
    }
   ],
   "source": [
    "sphere = pv.Sphere()\n",
    "sphere['scalars'] = sphere.points[:, 2]\n",
    "\n",
    "pl = pv.Plotter(window_size=(600, 600))\n",
    "# pl.background_color = 'blue'\n",
    "pl.add_mesh(sphere)\n",
    "pl.add_axes()\n",
    "# pl.show_bounds()"
   ]
  },
  {
   "cell_type": "code",
   "execution_count": 3,
   "id": "attractive-retreat",
   "metadata": {},
   "outputs": [],
   "source": [
    "# pl.camera.zoom(10)"
   ]
  },
  {
   "cell_type": "code",
   "execution_count": 4,
   "id": "toxic-prophet",
   "metadata": {},
   "outputs": [
    {
     "data": {
      "application/vnd.jupyter.widget-view+json": {
       "model_id": "ff328f3356c64fa2909c189df3456315",
       "version_major": 2,
       "version_minor": 0
      },
      "text/plain": [
       "AppLayout(children=(Dropdown(description='Colormap:', layout=Layout(grid_area='header'), options={'BrBG': 0, '…"
      ]
     },
     "metadata": {},
     "output_type": "display_data"
    }
   ],
   "source": [
    "pl.show()"
   ]
  },
  {
   "cell_type": "code",
   "execution_count": 7,
   "id": "previous-slave",
   "metadata": {},
   "outputs": [
    {
     "data": {
      "text/plain": [
       "array([[ 2.44929360e-15,  5.00000000e+00, -2.00000000e+00],\n",
       "       [ 1.21556036e+00,  4.68488752e+00, -1.95959596e+00],\n",
       "       [ 2.27700402e+00,  4.09249671e+00, -1.91919192e+00],\n",
       "       [ 3.12595020e+00,  3.27840221e+00, -1.87878788e+00],\n",
       "       [ 3.72150434e+00,  2.30906573e+00, -1.83838384e+00]])"
      ]
     },
     "execution_count": 7,
     "metadata": {},
     "output_type": "execute_result"
    }
   ],
   "source": [
    "import numpy as np\n",
    "def make_points():\n",
    "    \"\"\"Helper to make XYZ points\"\"\"\n",
    "    theta = np.linspace(-4 * np.pi, 4 * np.pi, 100)\n",
    "    z = np.linspace(-2, 2, 100)\n",
    "    r = z**2 + 1\n",
    "    x = r * np.sin(theta)\n",
    "    y = r * np.cos(theta)\n",
    "    return np.column_stack((x, y, z))\n",
    "\n",
    "points = make_points()\n",
    "points[0:5, :]"
   ]
  },
  {
   "cell_type": "code",
   "execution_count": 8,
   "id": "personal-london",
   "metadata": {},
   "outputs": [
    {
     "data": {
      "text/html": [
       "\n",
       "<table>\n",
       "<tr><th>PolyData</th><th>Information</th></tr>\n",
       "<tr><td>N Cells</td><td>99</td></tr>\n",
       "<tr><td>N Points</td><td>100</td></tr>\n",
       "<tr><td>X Bounds</td><td>-4.084e+00, 4.084e+00</td></tr>\n",
       "<tr><td>Y Bounds</td><td>-3.281e+00, 5.000e+00</td></tr>\n",
       "<tr><td>Z Bounds</td><td>-2.000e+00, 2.000e+00</td></tr>\n",
       "<tr><td>N Arrays</td><td>0</td></tr>\n",
       "</table>\n",
       "\n"
      ],
      "text/plain": [
       "PolyData (0x7fd12090e6a0)\n",
       "  N Cells:\t99\n",
       "  N Points:\t100\n",
       "  X Bounds:\t-4.084e+00, 4.084e+00\n",
       "  Y Bounds:\t-3.281e+00, 5.000e+00\n",
       "  Z Bounds:\t-2.000e+00, 2.000e+00\n",
       "  N Arrays:\t0"
      ]
     },
     "execution_count": 8,
     "metadata": {},
     "output_type": "execute_result"
    }
   ],
   "source": [
    "def lines_from_points(points):\n",
    "    \"\"\"Given an array of points, make a line set\"\"\"\n",
    "    poly = pv.PolyData()\n",
    "    poly.points = points\n",
    "    cells = np.full((len(points)-1, 3), 2, dtype=np.int_)\n",
    "    cells[:, 1] = np.arange(0, len(points)-1, dtype=np.int_)\n",
    "    cells[:, 2] = np.arange(1, len(points), dtype=np.int_)\n",
    "    poly.lines = cells\n",
    "    return poly\n",
    "\n",
    "\n",
    "line = lines_from_points(points)\n",
    "line"
   ]
  },
  {
   "cell_type": "code",
   "execution_count": 11,
   "id": "forty-crossing",
   "metadata": {},
   "outputs": [
    {
     "data": {
      "application/vnd.jupyter.widget-view+json": {
       "model_id": "e203d2d4939445d5a5222a665033e799",
       "version_major": 2,
       "version_minor": 0
      },
      "text/plain": [
       "AppLayout(children=(Dropdown(description='Colormap:', layout=Layout(grid_area='header'), options={'BrBG': 0, '…"
      ]
     },
     "metadata": {},
     "output_type": "display_data"
    }
   ],
   "source": [
    "line[\"scalars\"] = np.arange(line.n_points)\n",
    "tube = line.tube(radius=0.1)\n",
    "tube.plot(smooth_shading=True, background='w')"
   ]
  },
  {
   "cell_type": "code",
   "execution_count": 12,
   "id": "comfortable-velvet",
   "metadata": {},
   "outputs": [
    {
     "data": {
      "application/vnd.jupyter.widget-view+json": {
       "model_id": "1139a749c7cd40098ecbf143424f47c7",
       "version_major": 2,
       "version_minor": 0
      },
      "text/plain": [
       "AppLayout(children=(Dropdown(description='Colormap:', layout=Layout(grid_area='header'), options={'BrBG': 0, '…"
      ]
     },
     "metadata": {},
     "output_type": "display_data"
    }
   ],
   "source": [
    "def polyline_from_points(points):\n",
    "    poly = pv.PolyData()\n",
    "    poly.points = points\n",
    "    the_cell = np.arange(0, len(points), dtype=np.int_)\n",
    "    the_cell = np.insert(the_cell, 0, len(points))\n",
    "    poly.lines = the_cell\n",
    "    return poly\n",
    "\n",
    "polyline = polyline_from_points(points)\n",
    "polyline[\"scalars\"] = np.arange(polyline.n_points)\n",
    "tube = polyline.tube(radius=0.1)\n",
    "tube.plot(smooth_shading=True)"
   ]
  }
 ],
 "metadata": {
  "kernelspec": {
   "display_name": "Python 3",
   "language": "python",
   "name": "python3"
  },
  "language_info": {
   "codemirror_mode": {
    "name": "ipython",
    "version": 3
   },
   "file_extension": ".py",
   "mimetype": "text/x-python",
   "name": "python",
   "nbconvert_exporter": "python",
   "pygments_lexer": "ipython3",
   "version": "3.8.5"
  }
 },
 "nbformat": 4,
 "nbformat_minor": 5
}
