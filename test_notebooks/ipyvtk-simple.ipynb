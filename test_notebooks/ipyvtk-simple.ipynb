{
 "cells": [
  {
   "cell_type": "code",
   "execution_count": null,
   "id": "angry-arkansas",
   "metadata": {},
   "outputs": [],
   "source": [
    "import pyvista as pv\n",
    "pv.set_plot_theme('document')"
   ]
  },
  {
   "cell_type": "code",
   "execution_count": null,
   "id": "pleased-produce",
   "metadata": {},
   "outputs": [],
   "source": [
    "sphere = pv.Sphere()\n",
    "sphere['scalars'] = sphere.points[:, 2]\n",
    "sphere.plot()"
   ]
  }
 ],
 "metadata": {
  "kernelspec": {
   "display_name": "Python 3 (ipykernel)",
   "language": "python",
   "name": "python3"
  },
  "language_info": {
   "codemirror_mode": {
    "name": "ipython",
    "version": 3
   },
   "file_extension": ".py",
   "mimetype": "text/x-python",
   "name": "python",
   "nbconvert_exporter": "python",
   "pygments_lexer": "ipython3",
   "version": "3.9.7"
  }
 },
 "nbformat": 4,
 "nbformat_minor": 5
}
