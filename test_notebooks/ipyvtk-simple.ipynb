{
 "cells": [
  {
   "cell_type": "code",
   "execution_count": 1,
   "id": "angry-arkansas",
   "metadata": {},
   "outputs": [],
   "source": [
    "import pyvista as pv\n",
    "import os"
   ]
  },
  {
   "cell_type": "code",
   "execution_count": 3,
   "id": "consecutive-balloon",
   "metadata": {},
   "outputs": [],
   "source": [
    "pv.set_jupyter_backend('ipyvtklink')\n",
    "if 'DISPLAY' not in os.environ:\n",
    "    pv.start_xvfb()"
   ]
  },
  {
   "cell_type": "code",
   "execution_count": 4,
   "id": "pleased-produce",
   "metadata": {},
   "outputs": [],
   "source": [
    "sphere = pv.Sphere()\n",
    "sphere['scalars'] = sphere.points[:, 2]"
   ]
  },
  {
   "cell_type": "code",
   "execution_count": 5,
   "id": "small-conditions",
   "metadata": {},
   "outputs": [
    {
     "data": {
      "application/vnd.jupyter.widget-view+json": {
       "model_id": "3f1ae4940ea64b01a48a3b7f85285fca",
       "version_major": 2,
       "version_minor": 0
      },
      "text/plain": [
       "ViewInteractiveWidget(height=700, layout=Layout(height='auto', width='100%'))"
      ]
     },
     "metadata": {},
     "output_type": "display_data"
    }
   ],
   "source": [
    "pl = pv.Plotter(window_size=(700, 700))\n",
    "# pl.background_color = 'blue'\n",
    "pl.add_mesh(sphere)\n",
    "pl.add_axes()\n",
    "pl.show_bounds()\n",
    "pl.show()"
   ]
  }
 ],
 "metadata": {
  "kernelspec": {
   "display_name": "Python 3",
   "language": "python",
   "name": "python3"
  },
  "language_info": {
   "codemirror_mode": {
    "name": "ipython",
    "version": 3
   },
   "file_extension": ".py",
   "mimetype": "text/x-python",
   "name": "python",
   "nbconvert_exporter": "python",
   "pygments_lexer": "ipython3",
   "version": "3.8.5"
  }
 },
 "nbformat": 4,
 "nbformat_minor": 5
}
