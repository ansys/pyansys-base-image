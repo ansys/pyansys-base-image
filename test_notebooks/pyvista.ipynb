{
 "cells": [
  {
   "cell_type": "markdown",
   "id": "d3454a06-73d2-4eb9-bd6a-ac14f9669374",
   "metadata": {},
   "source": [
    "### Test the PyVista Plotting Backends\n",
    "These should simply run without failure.\n",
    "\n",
    "This notebook assumes that either `xvfb` is running in the background, or VTK has been compiled with OSMesa.\n"
   ]
  },
  {
   "cell_type": "code",
   "execution_count": null,
   "id": "08c967fd-14e0-4351-915c-1b6da6316ae1",
   "metadata": {},
   "outputs": [],
   "source": [
    "import pyvista as pv\n",
    "pv.set_plot_theme('document')\n",
    "sphere = pv.Sphere()\n",
    "sphere['scalars'] = sphere.points[:, 2]"
   ]
  },
  {
   "cell_type": "code",
   "execution_count": null,
   "id": "1d2c5e00-271a-4d93-bc1e-b218cd7d4e21",
   "metadata": {},
   "outputs": [],
   "source": [
    "sphere.plot(jupyter_backend='ipyvtklink')"
   ]
  },
  {
   "cell_type": "code",
   "execution_count": null,
   "id": "83140fed-7204-4a3f-898f-ade8161077d3",
   "metadata": {},
   "outputs": [],
   "source": [
    "sphere.plot(jupyter_backend='panel')"
   ]
  },
  {
   "cell_type": "code",
   "execution_count": null,
   "id": "26034f63-f5ec-475b-bac4-765a01a93813",
   "metadata": {},
   "outputs": [],
   "source": [
    "sphere.plot(jupyter_backend='static')"
   ]
  },
  {
   "cell_type": "code",
   "execution_count": null,
   "id": "bd6014b8-eb65-40bc-b226-6a2597f9c333",
   "metadata": {},
   "outputs": [],
   "source": [
    "sphere.plot(jupyter_backend='pythreejs')"
   ]
  },
  {
   "cell_type": "code",
   "execution_count": null,
   "id": "c4f5a840-21c7-478b-89c2-6527a97e5e6d",
   "metadata": {},
   "outputs": [],
   "source": [
    "sphere.plot(jupyter_backend='ipygany')"
   ]
  }
 ],
 "metadata": {
  "kernelspec": {
   "display_name": "Python 3 (ipykernel)",
   "language": "python",
   "name": "python3"
  },
  "language_info": {
   "codemirror_mode": {
    "name": "ipython",
    "version": 3
   },
   "file_extension": ".py",
   "mimetype": "text/x-python",
   "name": "python",
   "nbconvert_exporter": "python",
   "pygments_lexer": "ipython3",
   "version": "3.9.7"
  }
 },
 "nbformat": 4,
 "nbformat_minor": 5
}
