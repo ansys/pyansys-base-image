{
 "cells": [
  {
   "cell_type": "code",
   "execution_count": null,
   "id": "366676b7-f66f-4351-907e-877f6d1817dc",
   "metadata": {},
   "outputs": [],
   "source": [
    "import pyvista\n",
    "import numpy as np\n",
    "\n",
    "pyvista.global_theme.show_scalar_bar = False\n",
    "pyvista.global_theme.antialiasing = True\n",
    "pyvista.set_jupyter_backend('pythreejs')\n",
    "\n",
    "def make_cube(center=(0, 0, 0), resolution=1):\n",
    "    cube = pyvista.Cube(center=center)\n",
    "    return cube.clean().triangulate().subdivide(resolution)\n",
    "\n",
    "pl = pyvista.Plotter()\n",
    "\n",
    "# test face scalars with no lighting\n",
    "mesh = make_cube(center=(-1, 0, -1))\n",
    "mesh['scalars_a'] = np.arange(mesh.n_faces)\n",
    "pl.add_mesh(mesh, lighting=False, cmap='jet', show_edges=True)\n",
    "\n",
    "# test point scalars on a surface mesh\n",
    "mesh = make_cube(center=(1, 0, 1))\n",
    "mesh['scalars_b'] = mesh.points[:, 2]*mesh.points[:, 0]\n",
    "pl.add_mesh(mesh, cmap='bwr', line_width=1)\n",
    "\n",
    "mesh = make_cube(center=(-1, 0, 1))\n",
    "mesh['scalars_c'] = mesh.points[:, 2]\n",
    "pl.add_mesh(mesh, style='points', point_size=30)\n",
    "\n",
    "# test wireframe\n",
    "mesh = make_cube(center=(1, 0, -1))\n",
    "mesh['scalars_d'] = mesh.points[:, 2]\n",
    "pl.add_mesh(mesh, show_edges=False, line_width=3,\n",
    "            style='wireframe', cmap='inferno')\n",
    "\n",
    "pl.camera_position = 'xz'\n",
    "pl.show()"
   ]
  }
 ],
 "metadata": {
  "kernelspec": {
   "display_name": "Python 3 (ipykernel)",
   "language": "python",
   "name": "python3"
  },
  "language_info": {
   "codemirror_mode": {
    "name": "ipython",
    "version": 3
   },
   "file_extension": ".py",
   "mimetype": "text/x-python",
   "name": "python",
   "nbconvert_exporter": "python",
   "pygments_lexer": "ipython3",
   "version": "3.9.7"
  }
 },
 "nbformat": 4,
 "nbformat_minor": 5
}
